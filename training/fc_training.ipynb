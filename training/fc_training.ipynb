{
 "cells": [
  {
   "cell_type": "markdown",
   "metadata": {
    "colab_type": "text",
    "id": "7eO2EI5dMtQ4"
   },
   "source": [
    "### Imports"
   ]
  },
  {
   "cell_type": "code",
   "execution_count": 1,
   "metadata": {
    "colab": {},
    "colab_type": "code",
    "id": "KBvGY0rlMtQ5"
   },
   "outputs": [],
   "source": [
    "%matplotlib inline\n",
    "import os\n",
    "import cv2\n",
    "import numpy as np\n",
    "import matplotlib.pyplot as plt\n",
    "import random\n",
    "\n",
    "DATASET_PATH = '../data/train/'\n",
    "VAL_DATASET_PATH = '../data/val/'\n",
    "TEST_DATASET_PATH = '../data/test/'"
   ]
  },
  {
   "cell_type": "markdown",
   "metadata": {
    "colab_type": "text",
    "id": "EuSwKgpfMtQ7"
   },
   "source": [
    "### Create Keras CNN Model"
   ]
  },
  {
   "cell_type": "code",
   "execution_count": 2,
   "metadata": {
    "colab": {},
    "colab_type": "code",
    "id": "WFRKlNlzMtQ8"
   },
   "outputs": [],
   "source": [
    "num_classes = 6\n",
    "im_h, im_w = 100, 100"
   ]
  },
  {
   "cell_type": "code",
   "execution_count": 3,
   "metadata": {
    "colab": {
     "base_uri": "https://localhost:8080/",
     "height": 34
    },
    "colab_type": "code",
    "id": "IqH8omMgMtQ-",
    "outputId": "d57ac416-ed1f-4da2-c7db-720012ef324d"
   },
   "outputs": [
    {
     "name": "stderr",
     "output_type": "stream",
     "text": [
      "Using TensorFlow backend.\n"
     ]
    }
   ],
   "source": [
    "from keras.backend import clear_session\n",
    "\n",
    "clear_session()\n",
    "model = None"
   ]
  },
  {
   "cell_type": "code",
   "execution_count": 4,
   "metadata": {
    "colab": {
     "base_uri": "https://localhost:8080/",
     "height": 544
    },
    "colab_type": "code",
    "id": "vNZg7VWUMtRB",
    "outputId": "5dd2ec55-91a8-44f1-83cc-f6a0e87f63ef"
   },
   "outputs": [
    {
     "name": "stdout",
     "output_type": "stream",
     "text": [
      "Model: \"sequential_1\"\n",
      "_________________________________________________________________\n",
      "Layer (type)                 Output Shape              Param #   \n",
      "=================================================================\n",
      "flatten_1 (Flatten)          (None, 10000)             0         \n",
      "_________________________________________________________________\n",
      "dense_1 (Dense)              (None, 512)               5120512   \n",
      "_________________________________________________________________\n",
      "dense_2 (Dense)              (None, 256)               131328    \n",
      "_________________________________________________________________\n",
      "dropout_1 (Dropout)          (None, 256)               0         \n",
      "_________________________________________________________________\n",
      "dense_3 (Dense)              (None, 64)                16448     \n",
      "_________________________________________________________________\n",
      "dropout_2 (Dropout)          (None, 64)                0         \n",
      "_________________________________________________________________\n",
      "dense_4 (Dense)              (None, 6)                 390       \n",
      "=================================================================\n",
      "Total params: 5,268,678\n",
      "Trainable params: 5,268,678\n",
      "Non-trainable params: 0\n",
      "_________________________________________________________________\n",
      "None\n"
     ]
    }
   ],
   "source": [
    "from keras.models import Sequential\n",
    "from keras.layers import Flatten, Dense, Conv2D, MaxPooling2D, Dropout\n",
    "from keras.losses import categorical_crossentropy\n",
    "from keras.optimizers import SGD, Adam, Adadelta\n",
    "from keras.metrics import categorical_accuracy\n",
    "\n",
    "model = Sequential()\n",
    "\n",
    "model.add(Flatten(input_shape=(im_w,im_h,1)))\n",
    "model.add(Dense(512, activation=\"relu\"))\n",
    "model.add(Dense(256, activation=\"relu\"))\n",
    "model.add(Dropout(0.125))\n",
    "model.add(Dense(64, activation=\"relu\"))\n",
    "model.add(Dropout(0.25))\n",
    "model.add(Dense(6, activation=\"softmax\"))\n",
    "\n",
    "model.compile(loss=categorical_crossentropy,\n",
    "              optimizer=Adadelta(),\n",
    "              metrics=[categorical_accuracy])\n",
    "\n",
    "print(model.summary())"
   ]
  },
  {
   "cell_type": "markdown",
   "metadata": {
    "colab_type": "text",
    "id": "_2FqxOoTMtRD"
   },
   "source": [
    "### Create Data Iterators"
   ]
  },
  {
   "cell_type": "code",
   "execution_count": 5,
   "metadata": {
    "colab": {},
    "colab_type": "code",
    "id": "aBJdDYQaMtRE"
   },
   "outputs": [],
   "source": [
    "from keras.preprocessing.image import ImageDataGenerator\n",
    "datagen = ImageDataGenerator()"
   ]
  },
  {
   "cell_type": "code",
   "execution_count": 6,
   "metadata": {
    "colab": {
     "base_uri": "https://localhost:8080/",
     "height": 68
    },
    "colab_type": "code",
    "id": "--yU-ThfMtRG",
    "outputId": "8a091dc0-bfc4-4450-b9ee-4dd4ef1131b1"
   },
   "outputs": [
    {
     "name": "stdout",
     "output_type": "stream",
     "text": [
      "Found 6000 images belonging to 6 classes.\n",
      "Found 900 images belonging to 6 classes.\n",
      "Found 1200 images belonging to 6 classes.\n"
     ]
    }
   ],
   "source": [
    "BS = 64\n",
    "\n",
    "train_it = datagen.flow_from_directory(DATASET_PATH, class_mode='categorical', shuffle=True, target_size=(im_h,im_w), color_mode='grayscale', batch_size=BS)\n",
    "val_it = datagen.flow_from_directory(VAL_DATASET_PATH, class_mode='categorical', shuffle=True, target_size=(im_h,im_w), color_mode='grayscale', batch_size=BS)\n",
    "test_it = datagen.flow_from_directory(TEST_DATASET_PATH, class_mode='categorical', shuffle=True, target_size=(im_h,im_w), color_mode='grayscale', batch_size=BS)"
   ]
  },
  {
   "cell_type": "markdown",
   "metadata": {
    "colab_type": "text",
    "id": "ptXwGZh4MtRI"
   },
   "source": [
    "### Train CNN"
   ]
  },
  {
   "cell_type": "code",
   "execution_count": 7,
   "metadata": {
    "colab": {},
    "colab_type": "code",
    "id": "OPTbu0lZMtRI"
   },
   "outputs": [],
   "source": [
    "nb_train_steps = train_it.samples // train_it.batch_size\n",
    "nb_val_steps = val_it.samples // val_it.batch_size"
   ]
  },
  {
   "cell_type": "code",
   "execution_count": 8,
   "metadata": {
    "colab": {},
    "colab_type": "code",
    "id": "_GBNhVvSMtRK",
    "scrolled": true
   },
   "outputs": [],
   "source": [
    "from keras.callbacks import EarlyStopping\n",
    "EPOC = 25\n",
    "\n",
    "es = EarlyStopping(monitor='val_loss', mode='min', patience=3, verbose=1)"
   ]
  },
  {
   "cell_type": "code",
   "execution_count": 9,
   "metadata": {
    "colab": {
     "base_uri": "https://localhost:8080/",
     "height": 408
    },
    "colab_type": "code",
    "id": "5iI-vMSTMtRM",
    "outputId": "dda8ff12-f101-42d3-ebcc-78d7c7b0a653"
   },
   "outputs": [
    {
     "name": "stdout",
     "output_type": "stream",
     "text": [
      "Epoch 1/25\n",
      "93/93 [==============================] - 3s 31ms/step - loss: 114.6959 - categorical_accuracy: 0.1626 - val_loss: 1.7918 - val_categorical_accuracy: 0.1674\n",
      "Epoch 2/25\n",
      "93/93 [==============================] - 3s 30ms/step - loss: 3.6142 - categorical_accuracy: 0.1641 - val_loss: 1.7911 - val_categorical_accuracy: 0.1663\n",
      "Epoch 3/25\n",
      "93/93 [==============================] - 3s 31ms/step - loss: 2.4235 - categorical_accuracy: 0.1643 - val_loss: 1.7909 - val_categorical_accuracy: 0.1651\n",
      "Epoch 4/25\n",
      "93/93 [==============================] - 3s 27ms/step - loss: 2.6086 - categorical_accuracy: 0.1675 - val_loss: 1.7924 - val_categorical_accuracy: 0.1675\n",
      "Epoch 5/25\n",
      "93/93 [==============================] - 2s 26ms/step - loss: 2.3225 - categorical_accuracy: 0.1594 - val_loss: 1.7918 - val_categorical_accuracy: 0.1770\n",
      "Epoch 6/25\n",
      "93/93 [==============================] - 7s 72ms/step - loss: 2.0380 - categorical_accuracy: 0.1555 - val_loss: 1.7914 - val_categorical_accuracy: 0.1627\n",
      "Epoch 00006: early stopping\n",
      "20.75133967399597\n"
     ]
    }
   ],
   "source": [
    "import time\n",
    "t1=time.time()\n",
    "history = model.fit_generator(train_it,\n",
    "                                    steps_per_epoch=nb_train_steps,\n",
    "                                    epochs=EPOC,\n",
    "                                    validation_data=val_it,\n",
    "                                    validation_steps=nb_val_steps,\n",
    "                                    callbacks=[es]\n",
    "                                   )\n",
    "t2=time.time()\n",
    "print(t2-t1)"
   ]
  },
  {
   "cell_type": "code",
   "execution_count": 10,
   "metadata": {
    "colab": {
     "base_uri": "https://localhost:8080/",
     "height": 153
    },
    "colab_type": "code",
    "id": "qzrbC_EKMtRO",
    "outputId": "cf34892f-8092-4da4-c909-468187b1cda1"
   },
   "outputs": [
    {
     "data": {
      "text/plain": [
       "{'epochs': 25,\n",
       " 'steps': 93,\n",
       " 'verbose': 1,\n",
       " 'do_validation': True,\n",
       " 'metrics': ['loss',\n",
       "  'categorical_accuracy',\n",
       "  'val_loss',\n",
       "  'val_categorical_accuracy']}"
      ]
     },
     "execution_count": 10,
     "metadata": {},
     "output_type": "execute_result"
    }
   ],
   "source": [
    "history.params"
   ]
  },
  {
   "cell_type": "code",
   "execution_count": 11,
   "metadata": {
    "colab": {
     "base_uri": "https://localhost:8080/",
     "height": 320
    },
    "colab_type": "code",
    "id": "N99iM_dPMtRS",
    "outputId": "4b0eaac8-441a-4f2b-f2d3-34d66d29c01f"
   },
   "outputs": [
    {
     "data": {
      "image/png": "[encoded data removed]",
      "text/plain": [
       "<Figure size 576x360 with 1 Axes>"
      ]
     },
     "metadata": {
      "needs_background": "light"
     },
     "output_type": "display_data"
    }
   ],
   "source": [
    "import pandas as pd\n",
    "pd.DataFrame(history.history).plot(figsize=(8, 5))\n",
    "plt.grid(True)\n",
    "plt.gca()\n",
    "plt.show()"
   ]
  },
  {
   "cell_type": "markdown",
   "metadata": {
    "colab_type": "text",
    "id": "7C_LjOtgMtRU"
   },
   "source": [
    "### Check accuracy on test dataset"
   ]
  },
  {
   "cell_type": "code",
   "execution_count": 12,
   "metadata": {
    "colab": {
     "base_uri": "https://localhost:8080/",
     "height": 34
    },
    "colab_type": "code",
    "id": "rmeQraIAMtRU",
    "outputId": "89484eba-e88c-4093-a061-927e99334659"
   },
   "outputs": [
    {
     "data": {
      "text/plain": [
       "[1.7922948598861694, 0.1666666716337204]"
      ]
     },
     "execution_count": 12,
     "metadata": {},
     "output_type": "execute_result"
    }
   ],
   "source": [
    "model.evaluate_generator(test_it)"
   ]
  }
 ],
 "metadata": {
  "accelerator": "GPU",
  "colab": {
   "collapsed_sections": [],
   "name": "cnn_training.ipynb",
   "provenance": [],
   "toc_visible": true
  },
  "kernelspec": {
   "display_name": "ann_tests",
   "language": "python",
   "name": "ann_tests"
  },
  "language_info": {
   "codemirror_mode": {
    "name": "ipython",
    "version": 3
   },
   "file_extension": ".py",
   "mimetype": "text/x-python",
   "name": "python",
   "nbconvert_exporter": "python",
   "pygments_lexer": "ipython3",
   "version": "3.6.10"
  }
 },
 "nbformat": 4,
 "nbformat_minor": 4
}
