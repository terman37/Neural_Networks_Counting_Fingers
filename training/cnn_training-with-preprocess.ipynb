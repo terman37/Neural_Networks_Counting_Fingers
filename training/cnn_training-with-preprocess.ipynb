{
 "cells": [
  {
   "cell_type": "markdown",
   "metadata": {
    "colab_type": "text",
    "id": "7eO2EI5dMtQ4"
   },
   "source": [
    "### Imports"
   ]
  },
  {
   "cell_type": "code",
   "execution_count": 2,
   "metadata": {
    "colab": {},
    "colab_type": "code",
    "id": "KBvGY0rlMtQ5"
   },
   "outputs": [],
   "source": [
    "%matplotlib inline\n",
    "import os\n",
    "import cv2\n",
    "import numpy as np\n",
    "import matplotlib.pyplot as plt\n",
    "import random\n",
    "\n",
    "DATASET_PATH = '../data/train/'\n",
    "VAL_DATASET_PATH = '../data/val/'\n",
    "TEST_DATASET_PATH = '../data/test/'"
   ]
  },
  {
   "cell_type": "markdown",
   "metadata": {
    "colab_type": "text",
    "id": "EuSwKgpfMtQ7"
   },
   "source": [
    "### Create Keras CNN Model"
   ]
  },
  {
   "cell_type": "code",
   "execution_count": 3,
   "metadata": {
    "colab": {},
    "colab_type": "code",
    "id": "WFRKlNlzMtQ8"
   },
   "outputs": [],
   "source": [
    "num_classes = 6\n",
    "im_h, im_w = 100, 100"
   ]
  },
  {
   "cell_type": "code",
   "execution_count": 4,
   "metadata": {
    "colab": {
     "base_uri": "https://localhost:8080/",
     "height": 34
    },
    "colab_type": "code",
    "id": "IqH8omMgMtQ-",
    "outputId": "d57ac416-ed1f-4da2-c7db-720012ef324d"
   },
   "outputs": [
    {
     "name": "stderr",
     "output_type": "stream",
     "text": [
      "Using TensorFlow backend.\n"
     ]
    }
   ],
   "source": [
    "from keras.backend import clear_session\n",
    "\n",
    "clear_session()\n",
    "model = None"
   ]
  },
  {
   "cell_type": "code",
   "execution_count": 5,
   "metadata": {
    "colab": {
     "base_uri": "https://localhost:8080/",
     "height": 544
    },
    "colab_type": "code",
    "id": "vNZg7VWUMtRB",
    "outputId": "5dd2ec55-91a8-44f1-83cc-f6a0e87f63ef"
   },
   "outputs": [
    {
     "name": "stdout",
     "output_type": "stream",
     "text": [
      "Model: \"sequential_1\"\n",
      "_________________________________________________________________\n",
      "Layer (type)                 Output Shape              Param #   \n",
      "=================================================================\n",
      "conv2d_1 (Conv2D)            (None, 98, 98, 32)        320       \n",
      "_________________________________________________________________\n",
      "max_pooling2d_1 (MaxPooling2 (None, 49, 49, 32)        0         \n",
      "_________________________________________________________________\n",
      "conv2d_2 (Conv2D)            (None, 47, 47, 64)        18496     \n",
      "_________________________________________________________________\n",
      "max_pooling2d_2 (MaxPooling2 (None, 23, 23, 64)        0         \n",
      "_________________________________________________________________\n",
      "conv2d_3 (Conv2D)            (None, 21, 21, 128)       73856     \n",
      "_________________________________________________________________\n",
      "max_pooling2d_3 (MaxPooling2 (None, 10, 10, 128)       0         \n",
      "_________________________________________________________________\n",
      "dropout_1 (Dropout)          (None, 10, 10, 128)       0         \n",
      "_________________________________________________________________\n",
      "flatten_1 (Flatten)          (None, 12800)             0         \n",
      "_________________________________________________________________\n",
      "dense_1 (Dense)              (None, 256)               3277056   \n",
      "_________________________________________________________________\n",
      "dropout_2 (Dropout)          (None, 256)               0         \n",
      "_________________________________________________________________\n",
      "dense_2 (Dense)              (None, 6)                 1542      \n",
      "=================================================================\n",
      "Total params: 3,371,270\n",
      "Trainable params: 3,371,270\n",
      "Non-trainable params: 0\n",
      "_________________________________________________________________\n",
      "None\n"
     ]
    }
   ],
   "source": [
    "from keras.models import Sequential\n",
    "from keras.layers import Flatten, Dense, Conv2D, MaxPooling2D, Dropout\n",
    "from keras.losses import categorical_crossentropy\n",
    "from keras.optimizers import SGD, Adam, Adadelta\n",
    "from keras.metrics import categorical_accuracy\n",
    "\n",
    "model = Sequential()\n",
    "\n",
    "model.add(Conv2D(32, kernel_size=(3, 3), activation='relu',padding='valid', input_shape=(im_w,im_h,1)))\n",
    "model.add(MaxPooling2D(pool_size=(2, 2)))\n",
    "model.add(Conv2D(64, (3, 3),padding='valid', activation='relu'))\n",
    "model.add(MaxPooling2D(pool_size=(2, 2)))\n",
    "model.add(Conv2D(128, (3, 3),padding='valid', activation='relu'))\n",
    "model.add(MaxPooling2D(pool_size=(2, 2)))\n",
    "model.add(Dropout(0.125))\n",
    "model.add(Flatten())\n",
    "model.add(Dense(256, activation='relu'))\n",
    "model.add(Dropout(0.25))\n",
    "model.add(Dense(num_classes, activation='softmax'))\n",
    "\n",
    "model.compile(loss=categorical_crossentropy,\n",
    "              optimizer=Adadelta(),\n",
    "              metrics=[categorical_accuracy])\n",
    "\n",
    "print(model.summary())"
   ]
  },
  {
   "cell_type": "markdown",
   "metadata": {
    "colab_type": "text",
    "id": "_2FqxOoTMtRD"
   },
   "source": [
    "### Create Data Iterators"
   ]
  },
  {
   "cell_type": "code",
   "execution_count": 6,
   "metadata": {},
   "outputs": [],
   "source": [
    "def preproc(img):\n",
    "    img = cv2.GaussianBlur(img, ksize=(1,1), sigmaX=1000).astype('uint8')\n",
    "    img = cv2.adaptiveThreshold(img, maxValue=255, adaptiveMethod=cv2.ADAPTIVE_THRESH_GAUSSIAN_C, thresholdType=cv2.THRESH_BINARY, blockSize=5, C=3)\n",
    "    return img.reshape(100,100,1)"
   ]
  },
  {
   "cell_type": "code",
   "execution_count": 7,
   "metadata": {
    "colab": {},
    "colab_type": "code",
    "id": "aBJdDYQaMtRE"
   },
   "outputs": [],
   "source": [
    "from keras.preprocessing.image import ImageDataGenerator\n",
    "datagen = ImageDataGenerator(preprocessing_function=preproc)"
   ]
  },
  {
   "cell_type": "code",
   "execution_count": 8,
   "metadata": {
    "colab": {
     "base_uri": "https://localhost:8080/",
     "height": 68
    },
    "colab_type": "code",
    "id": "--yU-ThfMtRG",
    "outputId": "8a091dc0-bfc4-4450-b9ee-4dd4ef1131b1"
   },
   "outputs": [
    {
     "name": "stdout",
     "output_type": "stream",
     "text": [
      "Found 6000 images belonging to 6 classes.\n",
      "Found 900 images belonging to 6 classes.\n",
      "Found 1200 images belonging to 6 classes.\n"
     ]
    }
   ],
   "source": [
    "BS = 64\n",
    "\n",
    "train_it = datagen.flow_from_directory(DATASET_PATH, class_mode='categorical', shuffle=True, target_size=(im_h,im_w), color_mode='grayscale', batch_size=BS)\n",
    "val_it = datagen.flow_from_directory(VAL_DATASET_PATH, class_mode='categorical', shuffle=True, target_size=(im_h,im_w), color_mode='grayscale', batch_size=BS)\n",
    "test_it = datagen.flow_from_directory(TEST_DATASET_PATH, class_mode='categorical', shuffle=True, target_size=(im_h,im_w), color_mode='grayscale', batch_size=BS)"
   ]
  },
  {
   "cell_type": "markdown",
   "metadata": {
    "colab_type": "text",
    "id": "ptXwGZh4MtRI"
   },
   "source": [
    "### Train CNN"
   ]
  },
  {
   "cell_type": "code",
   "execution_count": 9,
   "metadata": {
    "colab": {},
    "colab_type": "code",
    "id": "OPTbu0lZMtRI"
   },
   "outputs": [],
   "source": [
    "nb_train_steps = train_it.samples // train_it.batch_size\n",
    "nb_val_steps = val_it.samples // val_it.batch_size"
   ]
  },
  {
   "cell_type": "code",
   "execution_count": 10,
   "metadata": {
    "colab": {},
    "colab_type": "code",
    "id": "_GBNhVvSMtRK",
    "scrolled": true
   },
   "outputs": [],
   "source": [
    "from keras.callbacks import EarlyStopping\n",
    "EPOC = 25\n",
    "\n",
    "es = EarlyStopping(monitor='val_loss', mode='min', patience=3, verbose=1)"
   ]
  },
  {
   "cell_type": "code",
   "execution_count": 11,
   "metadata": {
    "colab": {
     "base_uri": "https://localhost:8080/",
     "height": 408
    },
    "colab_type": "code",
    "id": "5iI-vMSTMtRM",
    "outputId": "dda8ff12-f101-42d3-ebcc-78d7c7b0a653"
   },
   "outputs": [
    {
     "name": "stdout",
     "output_type": "stream",
     "text": [
      "Epoch 1/25\n",
      "93/93 [==============================] - 10s 105ms/step - loss: 6.4116 - categorical_accuracy: 0.3459 - val_loss: 1.2398 - val_categorical_accuracy: 0.5893\n",
      "Epoch 2/25\n",
      "93/93 [==============================] - 8s 86ms/step - loss: 1.2308 - categorical_accuracy: 0.5662 - val_loss: 1.3588 - val_categorical_accuracy: 0.6232\n",
      "Epoch 3/25\n",
      "93/93 [==============================] - 5s 56ms/step - loss: 1.0099 - categorical_accuracy: 0.6733 - val_loss: 0.8698 - val_categorical_accuracy: 0.6938\n",
      "Epoch 4/25\n",
      "93/93 [==============================] - 5s 57ms/step - loss: 0.5990 - categorical_accuracy: 0.8145 - val_loss: 0.4480 - val_categorical_accuracy: 0.7715\n",
      "Epoch 5/25\n",
      "93/93 [==============================] - 5s 56ms/step - loss: 0.2606 - categorical_accuracy: 0.9079 - val_loss: 0.3843 - val_categorical_accuracy: 0.8385\n",
      "Epoch 6/25\n",
      "93/93 [==============================] - 5s 57ms/step - loss: 0.2292 - categorical_accuracy: 0.9237 - val_loss: 0.4741 - val_categorical_accuracy: 0.8888\n",
      "Epoch 7/25\n",
      "93/93 [==============================] - 5s 57ms/step - loss: 0.1559 - categorical_accuracy: 0.9488 - val_loss: 0.2485 - val_categorical_accuracy: 0.9139\n",
      "Epoch 8/25\n",
      "93/93 [==============================] - 5s 57ms/step - loss: 0.1275 - categorical_accuracy: 0.9609 - val_loss: 0.2553 - val_categorical_accuracy: 0.8959\n",
      "Epoch 9/25\n",
      "93/93 [==============================] - 5s 55ms/step - loss: 0.0709 - categorical_accuracy: 0.9761 - val_loss: 0.2381 - val_categorical_accuracy: 0.9246\n",
      "Epoch 10/25\n",
      "93/93 [==============================] - 5s 57ms/step - loss: 0.0648 - categorical_accuracy: 0.9759 - val_loss: 0.6799 - val_categorical_accuracy: 0.9115\n",
      "Epoch 11/25\n",
      "93/93 [==============================] - 5s 56ms/step - loss: 0.0974 - categorical_accuracy: 0.9725 - val_loss: 0.1593 - val_categorical_accuracy: 0.9222\n",
      "Epoch 12/25\n",
      "93/93 [==============================] - 5s 57ms/step - loss: 0.0396 - categorical_accuracy: 0.9870 - val_loss: 0.3884 - val_categorical_accuracy: 0.9139\n",
      "Epoch 13/25\n",
      "93/93 [==============================] - 5s 56ms/step - loss: 0.0457 - categorical_accuracy: 0.9862 - val_loss: 0.5735 - val_categorical_accuracy: 0.9199\n",
      "Epoch 14/25\n",
      "93/93 [==============================] - 5s 56ms/step - loss: 0.0418 - categorical_accuracy: 0.9866 - val_loss: 0.0475 - val_categorical_accuracy: 0.9306\n",
      "Epoch 15/25\n",
      "93/93 [==============================] - 5s 55ms/step - loss: 0.0213 - categorical_accuracy: 0.9927 - val_loss: 2.8908e-06 - val_categorical_accuracy: 0.9103\n",
      "Epoch 16/25\n",
      "93/93 [==============================] - 5s 55ms/step - loss: 0.0303 - categorical_accuracy: 0.9916 - val_loss: 0.5347 - val_categorical_accuracy: 0.9342\n",
      "Epoch 17/25\n",
      "93/93 [==============================] - 5s 59ms/step - loss: 0.0238 - categorical_accuracy: 0.9921 - val_loss: 0.6097 - val_categorical_accuracy: 0.9258\n",
      "Epoch 18/25\n",
      "93/93 [==============================] - 5s 58ms/step - loss: 0.0210 - categorical_accuracy: 0.9933 - val_loss: 0.3301 - val_categorical_accuracy: 0.9127\n",
      "Epoch 00018: early stopping\n",
      "102.36824178695679\n"
     ]
    }
   ],
   "source": [
    "import time\n",
    "\n",
    "t1=time.time()\n",
    "history = model.fit_generator(\n",
    "    train_it,\n",
    "    steps_per_epoch=nb_train_steps,\n",
    "    epochs=EPOC,\n",
    "    validation_data=val_it,\n",
    "    validation_steps=nb_val_steps, \n",
    "    callbacks=[es]\n",
    ")\n",
    "t2=time.time()\n",
    "print(t2-t1)"
   ]
  },
  {
   "cell_type": "code",
   "execution_count": 12,
   "metadata": {
    "colab": {
     "base_uri": "https://localhost:8080/",
     "height": 153
    },
    "colab_type": "code",
    "id": "qzrbC_EKMtRO",
    "outputId": "cf34892f-8092-4da4-c909-468187b1cda1"
   },
   "outputs": [
    {
     "data": {
      "text/plain": [
       "{'epochs': 25,\n",
       " 'steps': 93,\n",
       " 'verbose': 1,\n",
       " 'do_validation': True,\n",
       " 'metrics': ['loss',\n",
       "  'categorical_accuracy',\n",
       "  'val_loss',\n",
       "  'val_categorical_accuracy']}"
      ]
     },
     "execution_count": 12,
     "metadata": {},
     "output_type": "execute_result"
    }
   ],
   "source": [
    "history.params"
   ]
  },
  {
   "cell_type": "code",
   "execution_count": 13,
   "metadata": {
    "colab": {
     "base_uri": "https://localhost:8080/",
     "height": 320
    },
    "colab_type": "code",
    "id": "N99iM_dPMtRS",
    "outputId": "4b0eaac8-441a-4f2b-f2d3-34d66d29c01f"
   },
   "outputs": [
    {
     "data": {
      "image/png": "[encoded data removed]",
      "text/plain": [
       "<Figure size 576x360 with 1 Axes>"
      ]
     },
     "metadata": {
      "needs_background": "light"
     },
     "output_type": "display_data"
    }
   ],
   "source": [
    "import pandas as pd\n",
    "pd.DataFrame(history.history).plot(figsize=(8, 5))\n",
    "plt.grid(True)\n",
    "plt.gca()\n",
    "plt.show()"
   ]
  },
  {
   "cell_type": "markdown",
   "metadata": {
    "colab_type": "text",
    "id": "7C_LjOtgMtRU"
   },
   "source": [
    "### Check accuracy on test dataset"
   ]
  },
  {
   "cell_type": "code",
   "execution_count": 14,
   "metadata": {
    "colab": {
     "base_uri": "https://localhost:8080/",
     "height": 34
    },
    "colab_type": "code",
    "id": "rmeQraIAMtRU",
    "outputId": "89484eba-e88c-4093-a061-927e99334659"
   },
   "outputs": [
    {
     "data": {
      "text/plain": [
       "[0.0674002543091774, 0.9333333373069763]"
      ]
     },
     "execution_count": 14,
     "metadata": {},
     "output_type": "execute_result"
    }
   ],
   "source": [
    "model.evaluate_generator(test_it)"
   ]
  },
  {
   "cell_type": "markdown",
   "metadata": {
    "colab_type": "text",
    "id": "8Thm4IZPMtRW"
   },
   "source": [
    "### Check confusion matrix"
   ]
  },
  {
   "cell_type": "code",
   "execution_count": 15,
   "metadata": {
    "colab": {},
    "colab_type": "code",
    "id": "x4oV_2-tOJXJ"
   },
   "outputs": [],
   "source": [
    "def read_files(paths):\n",
    "    rawx=[]\n",
    "    rawy=[]\n",
    "    for p in paths:\n",
    "        for root, dirs, files in os.walk(p):\n",
    "            for file in files:\n",
    "                img = cv2.imread(os.path.join(root,file),cv2.IMREAD_GRAYSCALE)\n",
    "                img = preproc(img)\n",
    "                rawx.append(img)\n",
    "                rawy.append(int(file.split('_')[1]))\n",
    "    h, w, l = rawx[0].shape\n",
    "    \n",
    "    xy = list(zip(rawx,rawy))\n",
    "    random.shuffle(xy)\n",
    "    rawx,rawy = zip(*xy)\n",
    "    \n",
    "    rawx = np.asarray(rawx)\n",
    "    rawy = np.asarray(rawy)\n",
    "    rawx = rawx.reshape(len(rawx),h,w,1)\n",
    "    return rawx, rawy"
   ]
  },
  {
   "cell_type": "code",
   "execution_count": 16,
   "metadata": {
    "colab": {},
    "colab_type": "code",
    "id": "hrZ_TUH8OJXQ"
   },
   "outputs": [],
   "source": [
    "xtest, ytest = read_files([TEST_DATASET_PATH])"
   ]
  },
  {
   "cell_type": "code",
   "execution_count": 17,
   "metadata": {
    "colab": {
     "base_uri": "https://localhost:8080/",
     "height": 297
    },
    "colab_type": "code",
    "id": "bAXRoYbeMtRX",
    "outputId": "2bc0c845-10a5-4d80-9239-644544f7f95a"
   },
   "outputs": [
    {
     "data": {
      "text/html": [
       "<div>\n",
       "<style scoped>\n",
       "    .dataframe tbody tr th:only-of-type {\n",
       "        vertical-align: middle;\n",
       "    }\n",
       "\n",
       "    .dataframe tbody tr th {\n",
       "        vertical-align: top;\n",
       "    }\n",
       "\n",
       "    .dataframe thead th {\n",
       "        text-align: right;\n",
       "    }\n",
       "</style>\n",
       "<table border=\"1\" class=\"dataframe\">\n",
       "  <thead>\n",
       "    <tr style=\"text-align: right;\">\n",
       "      <th>Predicted</th>\n",
       "      <th>0</th>\n",
       "      <th>1</th>\n",
       "      <th>2</th>\n",
       "      <th>3</th>\n",
       "      <th>4</th>\n",
       "      <th>5</th>\n",
       "      <th>All</th>\n",
       "    </tr>\n",
       "    <tr>\n",
       "      <th>True</th>\n",
       "      <th></th>\n",
       "      <th></th>\n",
       "      <th></th>\n",
       "      <th></th>\n",
       "      <th></th>\n",
       "      <th></th>\n",
       "      <th></th>\n",
       "    </tr>\n",
       "  </thead>\n",
       "  <tbody>\n",
       "    <tr>\n",
       "      <th>0</th>\n",
       "      <td>196</td>\n",
       "      <td>4</td>\n",
       "      <td>0</td>\n",
       "      <td>0</td>\n",
       "      <td>0</td>\n",
       "      <td>0</td>\n",
       "      <td>200</td>\n",
       "    </tr>\n",
       "    <tr>\n",
       "      <th>1</th>\n",
       "      <td>15</td>\n",
       "      <td>179</td>\n",
       "      <td>2</td>\n",
       "      <td>2</td>\n",
       "      <td>2</td>\n",
       "      <td>0</td>\n",
       "      <td>200</td>\n",
       "    </tr>\n",
       "    <tr>\n",
       "      <th>2</th>\n",
       "      <td>1</td>\n",
       "      <td>13</td>\n",
       "      <td>167</td>\n",
       "      <td>11</td>\n",
       "      <td>8</td>\n",
       "      <td>0</td>\n",
       "      <td>200</td>\n",
       "    </tr>\n",
       "    <tr>\n",
       "      <th>3</th>\n",
       "      <td>0</td>\n",
       "      <td>1</td>\n",
       "      <td>5</td>\n",
       "      <td>189</td>\n",
       "      <td>4</td>\n",
       "      <td>1</td>\n",
       "      <td>200</td>\n",
       "    </tr>\n",
       "    <tr>\n",
       "      <th>4</th>\n",
       "      <td>0</td>\n",
       "      <td>0</td>\n",
       "      <td>3</td>\n",
       "      <td>0</td>\n",
       "      <td>190</td>\n",
       "      <td>7</td>\n",
       "      <td>200</td>\n",
       "    </tr>\n",
       "    <tr>\n",
       "      <th>5</th>\n",
       "      <td>0</td>\n",
       "      <td>0</td>\n",
       "      <td>0</td>\n",
       "      <td>0</td>\n",
       "      <td>1</td>\n",
       "      <td>199</td>\n",
       "      <td>200</td>\n",
       "    </tr>\n",
       "    <tr>\n",
       "      <th>All</th>\n",
       "      <td>212</td>\n",
       "      <td>197</td>\n",
       "      <td>177</td>\n",
       "      <td>202</td>\n",
       "      <td>205</td>\n",
       "      <td>207</td>\n",
       "      <td>1200</td>\n",
       "    </tr>\n",
       "  </tbody>\n",
       "</table>\n",
       "</div>"
      ],
      "text/plain": [
       "Predicted    0    1    2    3    4    5   All\n",
       "True                                         \n",
       "0          196    4    0    0    0    0   200\n",
       "1           15  179    2    2    2    0   200\n",
       "2            1   13  167   11    8    0   200\n",
       "3            0    1    5  189    4    1   200\n",
       "4            0    0    3    0  190    7   200\n",
       "5            0    0    0    0    1  199   200\n",
       "All        212  197  177  202  205  207  1200"
      ]
     },
     "execution_count": 17,
     "metadata": {},
     "output_type": "execute_result"
    }
   ],
   "source": [
    "import pandas as pd\n",
    "ypred = model.predict_classes(xtest)\n",
    "\n",
    "confmatr = pd.crosstab(ytest, ypred, rownames=['True'], colnames=['Predicted'], margins=True)\n",
    "confmatr"
   ]
  },
  {
   "cell_type": "code",
   "execution_count": 18,
   "metadata": {
    "colab": {
     "base_uri": "https://localhost:8080/",
     "height": 275
    },
    "colab_type": "code",
    "id": "pLaGl4B4MtRY",
    "outputId": "9fccdb5c-03b0-4caf-a123-6e560de4df1d"
   },
   "outputs": [
    {
     "data": {
      "image/png": "[encoded data removed]",
      "text/plain": [
       "<Figure size 288x288 with 1 Axes>"
      ]
     },
     "metadata": {
      "needs_background": "light"
     },
     "output_type": "display_data"
    }
   ],
   "source": [
    "from sklearn.metrics import confusion_matrix\n",
    "\n",
    "confmatr = confusion_matrix(ytest, ypred)\n",
    "row_sums = confmatr.sum(axis=1,keepdims=True)\n",
    "norm_conf_matr = confmatr / row_sums\n",
    "np.fill_diagonal(norm_conf_matr,0)\n",
    "plt.matshow(norm_conf_matr,cmap=plt.cm.gray);"
   ]
  },
  {
   "cell_type": "markdown",
   "metadata": {
    "colab_type": "text",
    "id": "8eWWbyhLMtRa"
   },
   "source": [
    "### Save model."
   ]
  },
  {
   "cell_type": "code",
   "execution_count": 19,
   "metadata": {
    "colab": {},
    "colab_type": "code",
    "id": "YfuGXp2gMtRa"
   },
   "outputs": [],
   "source": [
    "model.save('../models/model_cnn_preproc.h5')"
   ]
  },
  {
   "cell_type": "markdown",
   "metadata": {
    "colab_type": "text",
    "id": "xjll0asvMtRc"
   },
   "source": [
    "### Try our model on a never seen before picture (original one)"
   ]
  },
  {
   "cell_type": "code",
   "execution_count": 20,
   "metadata": {
    "colab": {},
    "colab_type": "code",
    "id": "0o7LeAEIOJXS"
   },
   "outputs": [],
   "source": [
    "def plot_6_images_test(xt,yt,yp):\n",
    "    \n",
    "    idxs = [ random.randint(0,len(xt)-1) for i in range(0,6)]\n",
    "    plt.figure(figsize=(10,5))\n",
    "    for i in range(6):\n",
    "        plt.subplot(2,3,i+1)\n",
    "        img = xt[idxs[i]]\n",
    "        plt.imshow(img.reshape(im_w,im_h),cmap='gray')\n",
    "        if yt[idxs[i]]==yp[idxs[i]]:\n",
    "          c = 'green'\n",
    "        else:\n",
    "          c = 'red'\n",
    "        plt.title('y=%d / pred=%d' % (yt[idxs[i]],yp[idxs[i]]),color=c)\n",
    "        plt.axis('off')\n",
    "    \n",
    "    plt.tight_layout()\n",
    "    plt.show()  "
   ]
  },
  {
   "cell_type": "code",
   "execution_count": 22,
   "metadata": {
    "colab": {
     "base_uri": "https://localhost:8080/",
     "height": 369
    },
    "colab_type": "code",
    "id": "sb1CjCYuMtRh",
    "outputId": "8529fec3-02e0-44d2-a3c3-d0d6ba513810"
   },
   "outputs": [
    {
     "data": {
      "image/png": "[encoded data removed]",
      "text/plain": [
       "<Figure size 720x360 with 6 Axes>"
      ]
     },
     "metadata": {
      "needs_background": "light"
     },
     "output_type": "display_data"
    }
   ],
   "source": [
    "plot_6_images_test(xtest,ytest,ypred)"
   ]
  },
  {
   "cell_type": "code",
   "execution_count": null,
   "metadata": {},
   "outputs": [],
   "source": []
  }
 ],
 "metadata": {
  "accelerator": "GPU",
  "colab": {
   "collapsed_sections": [],
   "name": "cnn_training.ipynb",
   "provenance": [],
   "toc_visible": true
  },
  "kernelspec": {
   "display_name": "ann_tests",
   "language": "python",
   "name": "ann_tests"
  },
  "language_info": {
   "codemirror_mode": {
    "name": "ipython",
    "version": 3
   },
   "file_extension": ".py",
   "mimetype": "text/x-python",
   "name": "python",
   "nbconvert_exporter": "python",
   "pygments_lexer": "ipython3",
   "version": "3.6.10"
  }
 },
 "nbformat": 4,
 "nbformat_minor": 4
}
